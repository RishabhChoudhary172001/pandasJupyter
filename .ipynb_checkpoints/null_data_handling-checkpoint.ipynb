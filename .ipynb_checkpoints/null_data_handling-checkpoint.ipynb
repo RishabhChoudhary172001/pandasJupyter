{
 "cells": [
  {
   "cell_type": "code",
   "execution_count": null,
   "id": "30776106-01fa-4016-9384-cae6273dd3e2",
   "metadata": {},
   "outputs": [],
   "source": [
    "import pandsas as pd\n",
    "import seaborn as sns\n",
    "import matplotlib.pyplot as plt"
   ]
  },
  {
   "cell_type": "code",
   "execution_count": null,
   "id": "ab9ccd29-05dd-4e05-b436-eb5d65b11380",
   "metadata": {},
   "outputs": [],
   "source": [
    "df= pd.read_csv(r\"C:\\Users\\HP\\Downloads\\temp.csv\")\n",
    "df.head(4)"
   ]
  }
 ],
 "metadata": {
  "kernelspec": {
   "display_name": "Python 3 (ipykernel)",
   "language": "python",
   "name": "python3"
  },
  "language_info": {
   "codemirror_mode": {
    "name": "ipython",
    "version": 3
   },
   "file_extension": ".py",
   "mimetype": "text/x-python",
   "name": "python",
   "nbconvert_exporter": "python",
   "pygments_lexer": "ipython3",
   "version": "3.12.3"
  }
 },
 "nbformat": 4,
 "nbformat_minor": 5
}
